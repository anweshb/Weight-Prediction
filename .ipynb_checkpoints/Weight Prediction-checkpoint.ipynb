{
 "cells": [
  {
   "cell_type": "code",
   "execution_count": 1,
   "metadata": {},
   "outputs": [],
   "source": [
    "import numpy as np\n",
    "import pandas as pd\n",
    "import matplotlib.pyplot as plt\n",
    "import seaborn as sns"
   ]
  },
  {
   "cell_type": "code",
   "execution_count": 2,
   "metadata": {},
   "outputs": [],
   "source": [
    "df = pd.read_csv('weight-height.csv')"
   ]
  },
  {
   "cell_type": "code",
   "execution_count": 3,
   "metadata": {},
   "outputs": [
    {
     "data": {
      "text/html": [
       "<div>\n",
       "<style scoped>\n",
       "    .dataframe tbody tr th:only-of-type {\n",
       "        vertical-align: middle;\n",
       "    }\n",
       "\n",
       "    .dataframe tbody tr th {\n",
       "        vertical-align: top;\n",
       "    }\n",
       "\n",
       "    .dataframe thead th {\n",
       "        text-align: right;\n",
       "    }\n",
       "</style>\n",
       "<table border=\"1\" class=\"dataframe\">\n",
       "  <thead>\n",
       "    <tr style=\"text-align: right;\">\n",
       "      <th></th>\n",
       "      <th>Gender</th>\n",
       "      <th>Height</th>\n",
       "      <th>Weight</th>\n",
       "    </tr>\n",
       "  </thead>\n",
       "  <tbody>\n",
       "    <tr>\n",
       "      <th>0</th>\n",
       "      <td>Male</td>\n",
       "      <td>73.847017</td>\n",
       "      <td>241.893563</td>\n",
       "    </tr>\n",
       "    <tr>\n",
       "      <th>1</th>\n",
       "      <td>Male</td>\n",
       "      <td>68.781904</td>\n",
       "      <td>162.310473</td>\n",
       "    </tr>\n",
       "    <tr>\n",
       "      <th>2</th>\n",
       "      <td>Male</td>\n",
       "      <td>74.110105</td>\n",
       "      <td>212.740856</td>\n",
       "    </tr>\n",
       "    <tr>\n",
       "      <th>3</th>\n",
       "      <td>Male</td>\n",
       "      <td>71.730978</td>\n",
       "      <td>220.042470</td>\n",
       "    </tr>\n",
       "    <tr>\n",
       "      <th>4</th>\n",
       "      <td>Male</td>\n",
       "      <td>69.881796</td>\n",
       "      <td>206.349801</td>\n",
       "    </tr>\n",
       "  </tbody>\n",
       "</table>\n",
       "</div>"
      ],
      "text/plain": [
       "  Gender     Height      Weight\n",
       "0   Male  73.847017  241.893563\n",
       "1   Male  68.781904  162.310473\n",
       "2   Male  74.110105  212.740856\n",
       "3   Male  71.730978  220.042470\n",
       "4   Male  69.881796  206.349801"
      ]
     },
     "execution_count": 3,
     "metadata": {},
     "output_type": "execute_result"
    }
   ],
   "source": [
    "df.head()"
   ]
  },
  {
   "cell_type": "code",
   "execution_count": 4,
   "metadata": {},
   "outputs": [],
   "source": [
    "dummies = pd.get_dummies(df.Gender)"
   ]
  },
  {
   "cell_type": "code",
   "execution_count": 5,
   "metadata": {},
   "outputs": [],
   "source": [
    "df = pd.concat([df,dummies],axis=1)"
   ]
  },
  {
   "cell_type": "code",
   "execution_count": 6,
   "metadata": {},
   "outputs": [],
   "source": [
    "df = df.drop('Gender',axis=1)"
   ]
  },
  {
   "cell_type": "code",
   "execution_count": 7,
   "metadata": {},
   "outputs": [
    {
     "data": {
      "text/html": [
       "<div>\n",
       "<style scoped>\n",
       "    .dataframe tbody tr th:only-of-type {\n",
       "        vertical-align: middle;\n",
       "    }\n",
       "\n",
       "    .dataframe tbody tr th {\n",
       "        vertical-align: top;\n",
       "    }\n",
       "\n",
       "    .dataframe thead th {\n",
       "        text-align: right;\n",
       "    }\n",
       "</style>\n",
       "<table border=\"1\" class=\"dataframe\">\n",
       "  <thead>\n",
       "    <tr style=\"text-align: right;\">\n",
       "      <th></th>\n",
       "      <th>Height</th>\n",
       "      <th>Weight</th>\n",
       "      <th>Female</th>\n",
       "      <th>Male</th>\n",
       "    </tr>\n",
       "  </thead>\n",
       "  <tbody>\n",
       "    <tr>\n",
       "      <th>0</th>\n",
       "      <td>73.847017</td>\n",
       "      <td>241.893563</td>\n",
       "      <td>0</td>\n",
       "      <td>1</td>\n",
       "    </tr>\n",
       "    <tr>\n",
       "      <th>1</th>\n",
       "      <td>68.781904</td>\n",
       "      <td>162.310473</td>\n",
       "      <td>0</td>\n",
       "      <td>1</td>\n",
       "    </tr>\n",
       "    <tr>\n",
       "      <th>2</th>\n",
       "      <td>74.110105</td>\n",
       "      <td>212.740856</td>\n",
       "      <td>0</td>\n",
       "      <td>1</td>\n",
       "    </tr>\n",
       "    <tr>\n",
       "      <th>3</th>\n",
       "      <td>71.730978</td>\n",
       "      <td>220.042470</td>\n",
       "      <td>0</td>\n",
       "      <td>1</td>\n",
       "    </tr>\n",
       "    <tr>\n",
       "      <th>4</th>\n",
       "      <td>69.881796</td>\n",
       "      <td>206.349801</td>\n",
       "      <td>0</td>\n",
       "      <td>1</td>\n",
       "    </tr>\n",
       "  </tbody>\n",
       "</table>\n",
       "</div>"
      ],
      "text/plain": [
       "      Height      Weight  Female  Male\n",
       "0  73.847017  241.893563       0     1\n",
       "1  68.781904  162.310473       0     1\n",
       "2  74.110105  212.740856       0     1\n",
       "3  71.730978  220.042470       0     1\n",
       "4  69.881796  206.349801       0     1"
      ]
     },
     "execution_count": 7,
     "metadata": {},
     "output_type": "execute_result"
    }
   ],
   "source": [
    "df.head()"
   ]
  },
  {
   "cell_type": "code",
   "execution_count": 8,
   "metadata": {},
   "outputs": [],
   "source": [
    "cols = ['Height','Female','Male','Weight']\n",
    "df = df[cols]"
   ]
  },
  {
   "cell_type": "code",
   "execution_count": 9,
   "metadata": {},
   "outputs": [
    {
     "data": {
      "text/html": [
       "<div>\n",
       "<style scoped>\n",
       "    .dataframe tbody tr th:only-of-type {\n",
       "        vertical-align: middle;\n",
       "    }\n",
       "\n",
       "    .dataframe tbody tr th {\n",
       "        vertical-align: top;\n",
       "    }\n",
       "\n",
       "    .dataframe thead th {\n",
       "        text-align: right;\n",
       "    }\n",
       "</style>\n",
       "<table border=\"1\" class=\"dataframe\">\n",
       "  <thead>\n",
       "    <tr style=\"text-align: right;\">\n",
       "      <th></th>\n",
       "      <th>Height</th>\n",
       "      <th>Female</th>\n",
       "      <th>Male</th>\n",
       "      <th>Weight</th>\n",
       "    </tr>\n",
       "  </thead>\n",
       "  <tbody>\n",
       "    <tr>\n",
       "      <th>0</th>\n",
       "      <td>73.847017</td>\n",
       "      <td>0</td>\n",
       "      <td>1</td>\n",
       "      <td>241.893563</td>\n",
       "    </tr>\n",
       "    <tr>\n",
       "      <th>1</th>\n",
       "      <td>68.781904</td>\n",
       "      <td>0</td>\n",
       "      <td>1</td>\n",
       "      <td>162.310473</td>\n",
       "    </tr>\n",
       "    <tr>\n",
       "      <th>2</th>\n",
       "      <td>74.110105</td>\n",
       "      <td>0</td>\n",
       "      <td>1</td>\n",
       "      <td>212.740856</td>\n",
       "    </tr>\n",
       "    <tr>\n",
       "      <th>3</th>\n",
       "      <td>71.730978</td>\n",
       "      <td>0</td>\n",
       "      <td>1</td>\n",
       "      <td>220.042470</td>\n",
       "    </tr>\n",
       "    <tr>\n",
       "      <th>4</th>\n",
       "      <td>69.881796</td>\n",
       "      <td>0</td>\n",
       "      <td>1</td>\n",
       "      <td>206.349801</td>\n",
       "    </tr>\n",
       "  </tbody>\n",
       "</table>\n",
       "</div>"
      ],
      "text/plain": [
       "      Height  Female  Male      Weight\n",
       "0  73.847017       0     1  241.893563\n",
       "1  68.781904       0     1  162.310473\n",
       "2  74.110105       0     1  212.740856\n",
       "3  71.730978       0     1  220.042470\n",
       "4  69.881796       0     1  206.349801"
      ]
     },
     "execution_count": 9,
     "metadata": {},
     "output_type": "execute_result"
    }
   ],
   "source": [
    "df.head()"
   ]
  },
  {
   "cell_type": "code",
   "execution_count": 10,
   "metadata": {},
   "outputs": [
    {
     "data": {
      "text/html": [
       "<div>\n",
       "<style scoped>\n",
       "    .dataframe tbody tr th:only-of-type {\n",
       "        vertical-align: middle;\n",
       "    }\n",
       "\n",
       "    .dataframe tbody tr th {\n",
       "        vertical-align: top;\n",
       "    }\n",
       "\n",
       "    .dataframe thead th {\n",
       "        text-align: right;\n",
       "    }\n",
       "</style>\n",
       "<table border=\"1\" class=\"dataframe\">\n",
       "  <thead>\n",
       "    <tr style=\"text-align: right;\">\n",
       "      <th></th>\n",
       "      <th>Height</th>\n",
       "      <th>Female</th>\n",
       "      <th>Male</th>\n",
       "      <th>Weight</th>\n",
       "    </tr>\n",
       "  </thead>\n",
       "  <tbody>\n",
       "    <tr>\n",
       "      <th>count</th>\n",
       "      <td>10000.000000</td>\n",
       "      <td>10000.000000</td>\n",
       "      <td>10000.000000</td>\n",
       "      <td>10000.000000</td>\n",
       "    </tr>\n",
       "    <tr>\n",
       "      <th>mean</th>\n",
       "      <td>66.367560</td>\n",
       "      <td>0.500000</td>\n",
       "      <td>0.500000</td>\n",
       "      <td>161.440357</td>\n",
       "    </tr>\n",
       "    <tr>\n",
       "      <th>std</th>\n",
       "      <td>3.847528</td>\n",
       "      <td>0.500025</td>\n",
       "      <td>0.500025</td>\n",
       "      <td>32.108439</td>\n",
       "    </tr>\n",
       "    <tr>\n",
       "      <th>min</th>\n",
       "      <td>54.263133</td>\n",
       "      <td>0.000000</td>\n",
       "      <td>0.000000</td>\n",
       "      <td>64.700127</td>\n",
       "    </tr>\n",
       "    <tr>\n",
       "      <th>25%</th>\n",
       "      <td>63.505620</td>\n",
       "      <td>0.000000</td>\n",
       "      <td>0.000000</td>\n",
       "      <td>135.818051</td>\n",
       "    </tr>\n",
       "    <tr>\n",
       "      <th>50%</th>\n",
       "      <td>66.318070</td>\n",
       "      <td>0.500000</td>\n",
       "      <td>0.500000</td>\n",
       "      <td>161.212928</td>\n",
       "    </tr>\n",
       "    <tr>\n",
       "      <th>75%</th>\n",
       "      <td>69.174262</td>\n",
       "      <td>1.000000</td>\n",
       "      <td>1.000000</td>\n",
       "      <td>187.169525</td>\n",
       "    </tr>\n",
       "    <tr>\n",
       "      <th>max</th>\n",
       "      <td>78.998742</td>\n",
       "      <td>1.000000</td>\n",
       "      <td>1.000000</td>\n",
       "      <td>269.989699</td>\n",
       "    </tr>\n",
       "  </tbody>\n",
       "</table>\n",
       "</div>"
      ],
      "text/plain": [
       "             Height        Female          Male        Weight\n",
       "count  10000.000000  10000.000000  10000.000000  10000.000000\n",
       "mean      66.367560      0.500000      0.500000    161.440357\n",
       "std        3.847528      0.500025      0.500025     32.108439\n",
       "min       54.263133      0.000000      0.000000     64.700127\n",
       "25%       63.505620      0.000000      0.000000    135.818051\n",
       "50%       66.318070      0.500000      0.500000    161.212928\n",
       "75%       69.174262      1.000000      1.000000    187.169525\n",
       "max       78.998742      1.000000      1.000000    269.989699"
      ]
     },
     "execution_count": 10,
     "metadata": {},
     "output_type": "execute_result"
    }
   ],
   "source": [
    "df.describe()"
   ]
  },
  {
   "cell_type": "code",
   "execution_count": 11,
   "metadata": {},
   "outputs": [
    {
     "name": "stdout",
     "output_type": "stream",
     "text": [
      "<class 'pandas.core.frame.DataFrame'>\n",
      "RangeIndex: 10000 entries, 0 to 9999\n",
      "Data columns (total 4 columns):\n",
      " #   Column  Non-Null Count  Dtype  \n",
      "---  ------  --------------  -----  \n",
      " 0   Height  10000 non-null  float64\n",
      " 1   Female  10000 non-null  uint8  \n",
      " 2   Male    10000 non-null  uint8  \n",
      " 3   Weight  10000 non-null  float64\n",
      "dtypes: float64(2), uint8(2)\n",
      "memory usage: 175.9 KB\n"
     ]
    }
   ],
   "source": [
    "df.info()"
   ]
  },
  {
   "cell_type": "code",
   "execution_count": 12,
   "metadata": {},
   "outputs": [
    {
     "data": {
      "text/plain": [
       "<matplotlib.axes._subplots.AxesSubplot at 0x227f2301f48>"
      ]
     },
     "execution_count": 12,
     "metadata": {},
     "output_type": "execute_result"
    },
    {
     "data": {
      "image/png": "[encoded data removed]",
      "text/plain": [
       "<Figure size 432x288 with 1 Axes>"
      ]
     },
     "metadata": {
      "needs_background": "light"
     },
     "output_type": "display_data"
    }
   ],
   "source": [
    "sns.scatterplot(x='Height',y='Weight',hue='Female',data=df)"
   ]
  },
  {
   "cell_type": "code",
   "execution_count": 13,
   "metadata": {},
   "outputs": [],
   "source": [
    "X = df.drop('Weight',axis=1).values\n",
    "y = df['Weight'].values"
   ]
  },
  {
   "cell_type": "code",
   "execution_count": 14,
   "metadata": {},
   "outputs": [],
   "source": [
    "from sklearn.model_selection import train_test_split"
   ]
  },
  {
   "cell_type": "code",
   "execution_count": 15,
   "metadata": {},
   "outputs": [],
   "source": [
    "X_train, X_test, y_train, y_test = train_test_split(X, y, test_size=0.33, random_state=42)"
   ]
  },
  {
   "cell_type": "code",
   "execution_count": 16,
   "metadata": {},
   "outputs": [],
   "source": [
    "from tensorflow.keras.models import Sequential\n",
    "from tensorflow.keras.layers import Dense"
   ]
  },
  {
   "cell_type": "code",
   "execution_count": 17,
   "metadata": {},
   "outputs": [
    {
     "data": {
      "text/plain": [
       "array([[65.28925911,  1.        ,  0.        ],\n",
       "       [62.73928093,  1.        ,  0.        ],\n",
       "       [63.46342933,  1.        ,  0.        ],\n",
       "       ...,\n",
       "       [64.3254058 ,  1.        ,  0.        ],\n",
       "       [69.07449203,  0.        ,  1.        ],\n",
       "       [67.58883983,  1.        ,  0.        ]])"
      ]
     },
     "execution_count": 17,
     "metadata": {},
     "output_type": "execute_result"
    }
   ],
   "source": [
    "X_train.shape\n",
    "X_train"
   ]
  },
  {
   "cell_type": "code",
   "execution_count": 18,
   "metadata": {},
   "outputs": [],
   "source": [
    "from sklearn.preprocessing import MinMaxScaler"
   ]
  },
  {
   "cell_type": "code",
   "execution_count": 19,
   "metadata": {},
   "outputs": [],
   "source": [
    "scaler = MinMaxScaler()\n",
    "X_train = scaler.fit_transform(X_train)\n",
    "X_test = scaler.transform(X_test)"
   ]
  },
  {
   "cell_type": "code",
   "execution_count": 20,
   "metadata": {},
   "outputs": [],
   "source": [
    "model = Sequential()\n",
    "model.add(Dense(3,activation='relu'))\n",
    "model.add(Dense(3,activation='relu'))\n",
    "model.add(Dense(3,activation='relu'))\n",
    "model.add(Dense(3,activation='relu'))\n",
    "model.add(Dense(1))"
   ]
  },
  {
   "cell_type": "code",
   "execution_count": 21,
   "metadata": {},
   "outputs": [],
   "source": [
    "model.compile(optimizer='adam',loss='mse')"
   ]
  },
  {
   "cell_type": "code",
   "execution_count": 22,
   "metadata": {},
   "outputs": [],
   "source": [
    "from tensorflow.keras.callbacks import EarlyStopping"
   ]
  },
  {
   "cell_type": "code",
   "execution_count": 23,
   "metadata": {},
   "outputs": [],
   "source": [
    "stop = EarlyStopping(monitor='val_loss',patience=2)"
   ]
  },
  {
   "cell_type": "code",
   "execution_count": 24,
   "metadata": {},
   "outputs": [
    {
     "name": "stdout",
     "output_type": "stream",
     "text": [
      "Train on 6700 samples, validate on 3300 samples\n",
      "Epoch 1/100\n",
      "6700/6700 [==============================] - 2s 294us/sample - loss: 26853.2606 - val_loss: 26793.9322\n",
      "Epoch 2/100\n",
      "6700/6700 [==============================] - 1s 96us/sample - loss: 24871.5646 - val_loss: 22140.7742\n",
      "Epoch 3/100\n",
      "6700/6700 [==============================] - 1s 121us/sample - loss: 15604.7425 - val_loss: 8211.5172\n",
      "Epoch 4/100\n",
      "6700/6700 [==============================] - 1s 113us/sample - loss: 3011.9402 - val_loss: 484.4450\n",
      "Epoch 5/100\n",
      "6700/6700 [==============================] - 1s 96us/sample - loss: 297.5084 - val_loss: 252.8489\n",
      "Epoch 6/100\n",
      "6700/6700 [==============================] - 1s 96us/sample - loss: 237.6186 - val_loss: 228.3468\n",
      "Epoch 7/100\n",
      "6700/6700 [==============================] - 1s 96us/sample - loss: 219.3086 - val_loss: 214.4718\n",
      "Epoch 8/100\n",
      "6700/6700 [==============================] - 1s 99us/sample - loss: 209.1343 - val_loss: 206.5631\n",
      "Epoch 9/100\n",
      "6700/6700 [==============================] - 1s 96us/sample - loss: 203.4667 - val_loss: 202.1077\n",
      "Epoch 10/100\n",
      "6700/6700 [==============================] - 1s 96us/sample - loss: 199.9959 - val_loss: 199.2155\n",
      "Epoch 11/100\n",
      "6700/6700 [==============================] - 1s 98us/sample - loss: 197.2745 - val_loss: 196.6106\n",
      "Epoch 12/100\n",
      "6700/6700 [==============================] - 1s 99us/sample - loss: 194.7156 - val_loss: 193.7532\n",
      "Epoch 13/100\n",
      "6700/6700 [==============================] - 1s 99us/sample - loss: 192.0674 - val_loss: 190.9778\n",
      "Epoch 14/100\n",
      "6700/6700 [==============================] - 1s 99us/sample - loss: 189.1788 - val_loss: 188.0674\n",
      "Epoch 15/100\n",
      "6700/6700 [==============================] - 1s 97us/sample - loss: 186.0893 - val_loss: 185.0165\n",
      "Epoch 16/100\n",
      "6700/6700 [==============================] - 1s 96us/sample - loss: 182.7655 - val_loss: 181.7759\n",
      "Epoch 17/100\n",
      "6700/6700 [==============================] - 1s 104us/sample - loss: 179.2709 - val_loss: 178.1061\n",
      "Epoch 18/100\n",
      "6700/6700 [==============================] - 1s 108us/sample - loss: 175.7886 - val_loss: 174.8821\n",
      "Epoch 19/100\n",
      "6700/6700 [==============================] - 1s 117us/sample - loss: 172.0689 - val_loss: 170.7135\n",
      "Epoch 20/100\n",
      "6700/6700 [==============================] - 1s 114us/sample - loss: 167.9668 - val_loss: 166.8319\n",
      "Epoch 21/100\n",
      "6700/6700 [==============================] - 1s 101us/sample - loss: 163.9420 - val_loss: 163.1238\n",
      "Epoch 22/100\n",
      "6700/6700 [==============================] - 1s 96us/sample - loss: 159.9088 - val_loss: 159.0290\n",
      "Epoch 23/100\n",
      "6700/6700 [==============================] - 1s 116us/sample - loss: 155.7216 - val_loss: 154.6514\n",
      "Epoch 24/100\n",
      "6700/6700 [==============================] - 1s 103us/sample - loss: 151.5143 - val_loss: 150.7545\n",
      "Epoch 25/100\n",
      "6700/6700 [==============================] - 1s 102us/sample - loss: 147.5238 - val_loss: 146.6073\n",
      "Epoch 26/100\n",
      "6700/6700 [==============================] - 1s 100us/sample - loss: 143.5461 - val_loss: 143.3911\n",
      "Epoch 27/100\n",
      "6700/6700 [==============================] - 1s 99us/sample - loss: 139.5835 - val_loss: 139.4582\n",
      "Epoch 28/100\n",
      "6700/6700 [==============================] - 1s 116us/sample - loss: 135.6913 - val_loss: 135.3959\n",
      "Epoch 29/100\n",
      "6700/6700 [==============================] - 1s 100us/sample - loss: 131.8500 - val_loss: 132.4708\n",
      "Epoch 30/100\n",
      "6700/6700 [==============================] - 1s 96us/sample - loss: 128.5553 - val_loss: 128.3031\n",
      "Epoch 31/100\n",
      "6700/6700 [==============================] - 1s 97us/sample - loss: 125.2116 - val_loss: 125.1384\n",
      "Epoch 32/100\n",
      "6700/6700 [==============================] - 1s 95us/sample - loss: 122.1981 - val_loss: 122.3634\n",
      "Epoch 33/100\n",
      "6700/6700 [==============================] - 1s 99us/sample - loss: 119.5888 - val_loss: 119.4410\n",
      "Epoch 34/100\n",
      "6700/6700 [==============================] - 1s 99us/sample - loss: 117.0019 - val_loss: 116.9754\n",
      "Epoch 35/100\n",
      "6700/6700 [==============================] - 1s 98us/sample - loss: 114.5180 - val_loss: 114.7444\n",
      "Epoch 36/100\n",
      "6700/6700 [==============================] - 1s 99us/sample - loss: 112.3800 - val_loss: 112.9223\n",
      "Epoch 37/100\n",
      "6700/6700 [==============================] - 1s 96us/sample - loss: 110.6275 - val_loss: 111.3114\n",
      "Epoch 38/100\n",
      "6700/6700 [==============================] - 1s 96us/sample - loss: 108.9766 - val_loss: 110.2339\n",
      "Epoch 39/100\n",
      "6700/6700 [==============================] - 1s 98us/sample - loss: 107.4600 - val_loss: 108.2599\n",
      "Epoch 40/100\n",
      "6700/6700 [==============================] - 1s 99us/sample - loss: 106.3333 - val_loss: 106.9678\n",
      "Epoch 41/100\n",
      "6700/6700 [==============================] - 1s 99us/sample - loss: 105.4229 - val_loss: 105.9801\n",
      "Epoch 42/100\n",
      "6700/6700 [==============================] - 1s 99us/sample - loss: 104.4413 - val_loss: 105.2879\n",
      "Epoch 43/100\n",
      "6700/6700 [==============================] - 1s 99us/sample - loss: 103.5555 - val_loss: 104.9156\n",
      "Epoch 44/100\n",
      "6700/6700 [==============================] - 1s 99us/sample - loss: 103.0718 - val_loss: 103.8068\n",
      "Epoch 45/100\n",
      "6700/6700 [==============================] - 1s 100us/sample - loss: 102.5646 - val_loss: 103.4720\n",
      "Epoch 46/100\n",
      "6700/6700 [==============================] - 1s 96us/sample - loss: 102.1405 - val_loss: 103.0790\n",
      "Epoch 47/100\n",
      "6700/6700 [==============================] - 1s 99us/sample - loss: 101.8180 - val_loss: 102.5832\n",
      "Epoch 48/100\n",
      "6700/6700 [==============================] - 1s 101us/sample - loss: 101.4795 - val_loss: 102.5274\n",
      "Epoch 49/100\n",
      "6700/6700 [==============================] - 1s 96us/sample - loss: 101.1325 - val_loss: 102.0480\n",
      "Epoch 50/100\n",
      "6700/6700 [==============================] - 1s 116us/sample - loss: 100.8646 - val_loss: 102.4653\n",
      "Epoch 51/100\n",
      "6700/6700 [==============================] - 1s 98us/sample - loss: 100.6433 - val_loss: 102.0224\n",
      "Epoch 52/100\n",
      "6700/6700 [==============================] - 1s 101us/sample - loss: 100.8108 - val_loss: 101.6021\n",
      "Epoch 53/100\n",
      "6700/6700 [==============================] - 1s 97us/sample - loss: 100.5112 - val_loss: 101.5731\n",
      "Epoch 54/100\n",
      "6700/6700 [==============================] - 1s 106us/sample - loss: 100.6551 - val_loss: 102.1490\n",
      "Epoch 55/100\n",
      "6700/6700 [==============================] - 1s 134us/sample - loss: 100.7294 - val_loss: 101.3986\n",
      "Epoch 56/100\n",
      "6700/6700 [==============================] - 1s 107us/sample - loss: 100.6747 - val_loss: 101.3179\n",
      "Epoch 57/100\n",
      "6700/6700 [==============================] - 1s 125us/sample - loss: 100.6371 - val_loss: 101.4913\n",
      "Epoch 58/100\n",
      "6700/6700 [==============================] - 1s 109us/sample - loss: 100.2605 - val_loss: 101.1589\n",
      "Epoch 59/100\n",
      "6700/6700 [==============================] - 1s 125us/sample - loss: 100.5688 - val_loss: 101.9402\n",
      "Epoch 60/100\n",
      "6700/6700 [==============================] - 1s 116us/sample - loss: 100.1806 - val_loss: 101.0894\n",
      "Epoch 61/100\n",
      "6700/6700 [==============================] - 1s 119us/sample - loss: 100.3345 - val_loss: 101.4746\n",
      "Epoch 62/100\n",
      "6700/6700 [==============================] - 1s 112us/sample - loss: 100.3264 - val_loss: 101.0292\n",
      "Epoch 63/100\n",
      "6700/6700 [==============================] - 1s 118us/sample - loss: 100.5442 - val_loss: 101.8042\n",
      "Epoch 64/100\n",
      "6700/6700 [==============================] - 1s 103us/sample - loss: 100.3032 - val_loss: 101.0585\n"
     ]
    },
    {
     "data": {
      "text/plain": [
       "<tensorflow.python.keras.callbacks.History at 0x227e77f5908>"
      ]
     },
     "execution_count": 24,
     "metadata": {},
     "output_type": "execute_result"
    }
   ],
   "source": [
    "model.fit(X_train,y_train,epochs=100,\n",
    "         callbacks = [stop], validation_data = (X_test,y_test))"
   ]
  },
  {
   "cell_type": "code",
   "execution_count": 25,
   "metadata": {},
   "outputs": [],
   "source": [
    "losses = pd.DataFrame(model.history.history)"
   ]
  },
  {
   "cell_type": "code",
   "execution_count": 26,
   "metadata": {},
   "outputs": [
    {
     "data": {
      "text/plain": [
       "<matplotlib.axes._subplots.AxesSubplot at 0x227e84be688>"
      ]
     },
     "execution_count": 26,
     "metadata": {},
     "output_type": "execute_result"
    },
    {
     "data": {
      "image/png": "[encoded data removed]",
      "text/plain": [
       "<Figure size 432x288 with 1 Axes>"
      ]
     },
     "metadata": {
      "needs_background": "light"
     },
     "output_type": "display_data"
    }
   ],
   "source": [
    "losses.plot()"
   ]
  },
  {
   "cell_type": "code",
   "execution_count": 27,
   "metadata": {},
   "outputs": [],
   "source": [
    "predictions = model.predict(X_test)"
   ]
  },
  {
   "cell_type": "code",
   "execution_count": 28,
   "metadata": {},
   "outputs": [],
   "source": [
    "from sklearn.metrics import mean_squared_error"
   ]
  },
  {
   "cell_type": "code",
   "execution_count": 29,
   "metadata": {},
   "outputs": [
    {
     "data": {
      "text/plain": [
       "10.05278745311359"
      ]
     },
     "execution_count": 29,
     "metadata": {},
     "output_type": "execute_result"
    }
   ],
   "source": [
    "np.sqrt(mean_squared_error(y_test,predictions))"
   ]
  },
  {
   "cell_type": "code",
   "execution_count": 30,
   "metadata": {},
   "outputs": [],
   "source": [
    "pred_df = pd.DataFrame(predictions,columns=['Predictions'])"
   ]
  },
  {
   "cell_type": "code",
   "execution_count": 31,
   "metadata": {},
   "outputs": [],
   "source": [
    "actual_df = pd.DataFrame(y_test,columns=['Actual'])"
   ]
  },
  {
   "cell_type": "code",
   "execution_count": 32,
   "metadata": {},
   "outputs": [],
   "source": [
    "compare_df = pd.concat([actual_df,pred_df],axis=1)"
   ]
  },
  {
   "cell_type": "code",
   "execution_count": 33,
   "metadata": {},
   "outputs": [
    {
     "data": {
      "text/html": [
       "<div>\n",
       "<style scoped>\n",
       "    .dataframe tbody tr th:only-of-type {\n",
       "        vertical-align: middle;\n",
       "    }\n",
       "\n",
       "    .dataframe tbody tr th {\n",
       "        vertical-align: top;\n",
       "    }\n",
       "\n",
       "    .dataframe thead th {\n",
       "        text-align: right;\n",
       "    }\n",
       "</style>\n",
       "<table border=\"1\" class=\"dataframe\">\n",
       "  <thead>\n",
       "    <tr style=\"text-align: right;\">\n",
       "      <th></th>\n",
       "      <th>Actual</th>\n",
       "      <th>Predictions</th>\n",
       "    </tr>\n",
       "  </thead>\n",
       "  <tbody>\n",
       "    <tr>\n",
       "      <th>0</th>\n",
       "      <td>173.115813</td>\n",
       "      <td>165.235474</td>\n",
       "    </tr>\n",
       "    <tr>\n",
       "      <th>1</th>\n",
       "      <td>195.162042</td>\n",
       "      <td>185.611832</td>\n",
       "    </tr>\n",
       "    <tr>\n",
       "      <th>2</th>\n",
       "      <td>170.217451</td>\n",
       "      <td>171.277451</td>\n",
       "    </tr>\n",
       "    <tr>\n",
       "      <th>3</th>\n",
       "      <td>215.049660</td>\n",
       "      <td>203.889465</td>\n",
       "    </tr>\n",
       "    <tr>\n",
       "      <th>4</th>\n",
       "      <td>182.721452</td>\n",
       "      <td>175.079025</td>\n",
       "    </tr>\n",
       "    <tr>\n",
       "      <th>...</th>\n",
       "      <td>...</td>\n",
       "      <td>...</td>\n",
       "    </tr>\n",
       "    <tr>\n",
       "      <th>3295</th>\n",
       "      <td>190.584200</td>\n",
       "      <td>181.967804</td>\n",
       "    </tr>\n",
       "    <tr>\n",
       "      <th>3296</th>\n",
       "      <td>132.275936</td>\n",
       "      <td>140.549255</td>\n",
       "    </tr>\n",
       "    <tr>\n",
       "      <th>3297</th>\n",
       "      <td>127.444970</td>\n",
       "      <td>137.347839</td>\n",
       "    </tr>\n",
       "    <tr>\n",
       "      <th>3298</th>\n",
       "      <td>131.181930</td>\n",
       "      <td>122.447479</td>\n",
       "    </tr>\n",
       "    <tr>\n",
       "      <th>3299</th>\n",
       "      <td>138.801656</td>\n",
       "      <td>128.465134</td>\n",
       "    </tr>\n",
       "  </tbody>\n",
       "</table>\n",
       "<p>3300 rows × 2 columns</p>\n",
       "</div>"
      ],
      "text/plain": [
       "          Actual  Predictions\n",
       "0     173.115813   165.235474\n",
       "1     195.162042   185.611832\n",
       "2     170.217451   171.277451\n",
       "3     215.049660   203.889465\n",
       "4     182.721452   175.079025\n",
       "...          ...          ...\n",
       "3295  190.584200   181.967804\n",
       "3296  132.275936   140.549255\n",
       "3297  127.444970   137.347839\n",
       "3298  131.181930   122.447479\n",
       "3299  138.801656   128.465134\n",
       "\n",
       "[3300 rows x 2 columns]"
      ]
     },
     "execution_count": 33,
     "metadata": {},
     "output_type": "execute_result"
    }
   ],
   "source": [
    "compare_df"
   ]
  },
  {
   "cell_type": "code",
   "execution_count": 34,
   "metadata": {},
   "outputs": [
    {
     "data": {
      "text/plain": [
       "<seaborn.axisgrid.FacetGrid at 0x227f9919bc8>"
      ]
     },
     "execution_count": 34,
     "metadata": {},
     "output_type": "execute_result"
    },
    {
     "data": {
      "image/png": "[encoded data removed]",
      "text/plain": [
       "<Figure size 360x360 with 1 Axes>"
      ]
     },
     "metadata": {
      "needs_background": "light"
     },
     "output_type": "display_data"
    }
   ],
   "source": [
    "sns.lmplot(x='Actual',y='Predictions',data=compare_df,)"
   ]
  },
  {
   "cell_type": "code",
   "execution_count": 44,
   "metadata": {},
   "outputs": [],
   "source": [
    "unknown_data = np.array([74.0,0.,1.]).reshape(1,3)"
   ]
  },
  {
   "cell_type": "code",
   "execution_count": 45,
   "metadata": {},
   "outputs": [],
   "source": [
    "unknown_data = scaler.transform(unknown_data)"
   ]
  },
  {
   "cell_type": "code",
   "execution_count": 46,
   "metadata": {},
   "outputs": [],
   "source": [
    "new_pred = model.predict(unknown_data)"
   ]
  },
  {
   "cell_type": "code",
   "execution_count": 47,
   "metadata": {},
   "outputs": [
    {
     "data": {
      "text/plain": [
       "array([[216.09808]], dtype=float32)"
      ]
     },
     "execution_count": 47,
     "metadata": {},
     "output_type": "execute_result"
    }
   ],
   "source": [
    "new_pred"
   ]
  },
  {
   "cell_type": "code",
   "execution_count": null,
   "metadata": {},
   "outputs": [],
   "source": []
  }
 ],
 "metadata": {
  "kernelspec": {
   "display_name": "Python 3.7 (tensorflow)",
   "language": "python",
   "name": "tensorflow"
  },
  "language_info": {
   "codemirror_mode": {
    "name": "ipython",
    "version": 3
   },
   "file_extension": ".py",
   "mimetype": "text/x-python",
   "name": "python",
   "nbconvert_exporter": "python",
   "pygments_lexer": "ipython3",
   "version": "3.7.6"
  }
 },
 "nbformat": 4,
 "nbformat_minor": 4
}
