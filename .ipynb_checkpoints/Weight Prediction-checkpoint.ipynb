{
 "cells": [
  {
   "cell_type": "code",
   "execution_count": 1,
   "metadata": {},
   "outputs": [],
   "source": [
    "import numpy as np\n",
    "import pandas as pd\n",
    "import matplotlib.pyplot as plt\n",
    "import seaborn as sns"
   ]
  },
  {
   "cell_type": "code",
   "execution_count": 2,
   "metadata": {},
   "outputs": [],
   "source": [
    "df = pd.read_csv('weight-height.csv')"
   ]
  },
  {
   "cell_type": "code",
   "execution_count": 3,
   "metadata": {},
   "outputs": [
    {
     "data": {
      "text/html": [
       "<div>\n",
       "<style scoped>\n",
       "    .dataframe tbody tr th:only-of-type {\n",
       "        vertical-align: middle;\n",
       "    }\n",
       "\n",
       "    .dataframe tbody tr th {\n",
       "        vertical-align: top;\n",
       "    }\n",
       "\n",
       "    .dataframe thead th {\n",
       "        text-align: right;\n",
       "    }\n",
       "</style>\n",
       "<table border=\"1\" class=\"dataframe\">\n",
       "  <thead>\n",
       "    <tr style=\"text-align: right;\">\n",
       "      <th></th>\n",
       "      <th>Gender</th>\n",
       "      <th>Height</th>\n",
       "      <th>Weight</th>\n",
       "    </tr>\n",
       "  </thead>\n",
       "  <tbody>\n",
       "    <tr>\n",
       "      <th>0</th>\n",
       "      <td>Male</td>\n",
       "      <td>73.847017</td>\n",
       "      <td>241.893563</td>\n",
       "    </tr>\n",
       "    <tr>\n",
       "      <th>1</th>\n",
       "      <td>Male</td>\n",
       "      <td>68.781904</td>\n",
       "      <td>162.310473</td>\n",
       "    </tr>\n",
       "    <tr>\n",
       "      <th>2</th>\n",
       "      <td>Male</td>\n",
       "      <td>74.110105</td>\n",
       "      <td>212.740856</td>\n",
       "    </tr>\n",
       "    <tr>\n",
       "      <th>3</th>\n",
       "      <td>Male</td>\n",
       "      <td>71.730978</td>\n",
       "      <td>220.042470</td>\n",
       "    </tr>\n",
       "    <tr>\n",
       "      <th>4</th>\n",
       "      <td>Male</td>\n",
       "      <td>69.881796</td>\n",
       "      <td>206.349801</td>\n",
       "    </tr>\n",
       "  </tbody>\n",
       "</table>\n",
       "</div>"
      ],
      "text/plain": [
       "  Gender     Height      Weight\n",
       "0   Male  73.847017  241.893563\n",
       "1   Male  68.781904  162.310473\n",
       "2   Male  74.110105  212.740856\n",
       "3   Male  71.730978  220.042470\n",
       "4   Male  69.881796  206.349801"
      ]
     },
     "execution_count": 3,
     "metadata": {},
     "output_type": "execute_result"
    }
   ],
   "source": [
    "df.head()"
   ]
  },
  {
   "cell_type": "code",
   "execution_count": 4,
   "metadata": {},
   "outputs": [],
   "source": [
    "dummies = pd.get_dummies(df.Gender)  #Creating one-hot encoded data for the Gender Column"
   ]
  },
  {
   "cell_type": "code",
   "execution_count": 5,
   "metadata": {},
   "outputs": [],
   "source": [
    "df = pd.concat([df,dummies],axis=1)   #Concatenating the dummies with the original dataframe"
   ]
  },
  {
   "cell_type": "code",
   "execution_count": 6,
   "metadata": {},
   "outputs": [],
   "source": [
    "df = df.drop('Gender',axis=1)       #Dropping the original gender variable"
   ]
  },
  {
   "cell_type": "code",
   "execution_count": 7,
   "metadata": {},
   "outputs": [
    {
     "data": {
      "text/html": [
       "<div>\n",
       "<style scoped>\n",
       "    .dataframe tbody tr th:only-of-type {\n",
       "        vertical-align: middle;\n",
       "    }\n",
       "\n",
       "    .dataframe tbody tr th {\n",
       "        vertical-align: top;\n",
       "    }\n",
       "\n",
       "    .dataframe thead th {\n",
       "        text-align: right;\n",
       "    }\n",
       "</style>\n",
       "<table border=\"1\" class=\"dataframe\">\n",
       "  <thead>\n",
       "    <tr style=\"text-align: right;\">\n",
       "      <th></th>\n",
       "      <th>Height</th>\n",
       "      <th>Weight</th>\n",
       "      <th>Female</th>\n",
       "      <th>Male</th>\n",
       "    </tr>\n",
       "  </thead>\n",
       "  <tbody>\n",
       "    <tr>\n",
       "      <th>0</th>\n",
       "      <td>73.847017</td>\n",
       "      <td>241.893563</td>\n",
       "      <td>0</td>\n",
       "      <td>1</td>\n",
       "    </tr>\n",
       "    <tr>\n",
       "      <th>1</th>\n",
       "      <td>68.781904</td>\n",
       "      <td>162.310473</td>\n",
       "      <td>0</td>\n",
       "      <td>1</td>\n",
       "    </tr>\n",
       "    <tr>\n",
       "      <th>2</th>\n",
       "      <td>74.110105</td>\n",
       "      <td>212.740856</td>\n",
       "      <td>0</td>\n",
       "      <td>1</td>\n",
       "    </tr>\n",
       "    <tr>\n",
       "      <th>3</th>\n",
       "      <td>71.730978</td>\n",
       "      <td>220.042470</td>\n",
       "      <td>0</td>\n",
       "      <td>1</td>\n",
       "    </tr>\n",
       "    <tr>\n",
       "      <th>4</th>\n",
       "      <td>69.881796</td>\n",
       "      <td>206.349801</td>\n",
       "      <td>0</td>\n",
       "      <td>1</td>\n",
       "    </tr>\n",
       "  </tbody>\n",
       "</table>\n",
       "</div>"
      ],
      "text/plain": [
       "      Height      Weight  Female  Male\n",
       "0  73.847017  241.893563       0     1\n",
       "1  68.781904  162.310473       0     1\n",
       "2  74.110105  212.740856       0     1\n",
       "3  71.730978  220.042470       0     1\n",
       "4  69.881796  206.349801       0     1"
      ]
     },
     "execution_count": 7,
     "metadata": {},
     "output_type": "execute_result"
    }
   ],
   "source": [
    "df.head()"
   ]
  },
  {
   "cell_type": "code",
   "execution_count": 8,
   "metadata": {},
   "outputs": [],
   "source": [
    "cols = ['Height','Female','Male','Weight']\n",
    "df = df[cols]              #Rearranging the columns"
   ]
  },
  {
   "cell_type": "code",
   "execution_count": 9,
   "metadata": {},
   "outputs": [
    {
     "data": {
      "text/html": [
       "<div>\n",
       "<style scoped>\n",
       "    .dataframe tbody tr th:only-of-type {\n",
       "        vertical-align: middle;\n",
       "    }\n",
       "\n",
       "    .dataframe tbody tr th {\n",
       "        vertical-align: top;\n",
       "    }\n",
       "\n",
       "    .dataframe thead th {\n",
       "        text-align: right;\n",
       "    }\n",
       "</style>\n",
       "<table border=\"1\" class=\"dataframe\">\n",
       "  <thead>\n",
       "    <tr style=\"text-align: right;\">\n",
       "      <th></th>\n",
       "      <th>Height</th>\n",
       "      <th>Female</th>\n",
       "      <th>Male</th>\n",
       "      <th>Weight</th>\n",
       "    </tr>\n",
       "  </thead>\n",
       "  <tbody>\n",
       "    <tr>\n",
       "      <th>0</th>\n",
       "      <td>73.847017</td>\n",
       "      <td>0</td>\n",
       "      <td>1</td>\n",
       "      <td>241.893563</td>\n",
       "    </tr>\n",
       "    <tr>\n",
       "      <th>1</th>\n",
       "      <td>68.781904</td>\n",
       "      <td>0</td>\n",
       "      <td>1</td>\n",
       "      <td>162.310473</td>\n",
       "    </tr>\n",
       "    <tr>\n",
       "      <th>2</th>\n",
       "      <td>74.110105</td>\n",
       "      <td>0</td>\n",
       "      <td>1</td>\n",
       "      <td>212.740856</td>\n",
       "    </tr>\n",
       "    <tr>\n",
       "      <th>3</th>\n",
       "      <td>71.730978</td>\n",
       "      <td>0</td>\n",
       "      <td>1</td>\n",
       "      <td>220.042470</td>\n",
       "    </tr>\n",
       "    <tr>\n",
       "      <th>4</th>\n",
       "      <td>69.881796</td>\n",
       "      <td>0</td>\n",
       "      <td>1</td>\n",
       "      <td>206.349801</td>\n",
       "    </tr>\n",
       "  </tbody>\n",
       "</table>\n",
       "</div>"
      ],
      "text/plain": [
       "      Height  Female  Male      Weight\n",
       "0  73.847017       0     1  241.893563\n",
       "1  68.781904       0     1  162.310473\n",
       "2  74.110105       0     1  212.740856\n",
       "3  71.730978       0     1  220.042470\n",
       "4  69.881796       0     1  206.349801"
      ]
     },
     "execution_count": 9,
     "metadata": {},
     "output_type": "execute_result"
    }
   ],
   "source": [
    "df.head()"
   ]
  },
  {
   "cell_type": "code",
   "execution_count": 10,
   "metadata": {},
   "outputs": [
    {
     "data": {
      "text/html": [
       "<div>\n",
       "<style scoped>\n",
       "    .dataframe tbody tr th:only-of-type {\n",
       "        vertical-align: middle;\n",
       "    }\n",
       "\n",
       "    .dataframe tbody tr th {\n",
       "        vertical-align: top;\n",
       "    }\n",
       "\n",
       "    .dataframe thead th {\n",
       "        text-align: right;\n",
       "    }\n",
       "</style>\n",
       "<table border=\"1\" class=\"dataframe\">\n",
       "  <thead>\n",
       "    <tr style=\"text-align: right;\">\n",
       "      <th></th>\n",
       "      <th>Height</th>\n",
       "      <th>Female</th>\n",
       "      <th>Male</th>\n",
       "      <th>Weight</th>\n",
       "    </tr>\n",
       "  </thead>\n",
       "  <tbody>\n",
       "    <tr>\n",
       "      <th>count</th>\n",
       "      <td>10000.000000</td>\n",
       "      <td>10000.000000</td>\n",
       "      <td>10000.000000</td>\n",
       "      <td>10000.000000</td>\n",
       "    </tr>\n",
       "    <tr>\n",
       "      <th>mean</th>\n",
       "      <td>66.367560</td>\n",
       "      <td>0.500000</td>\n",
       "      <td>0.500000</td>\n",
       "      <td>161.440357</td>\n",
       "    </tr>\n",
       "    <tr>\n",
       "      <th>std</th>\n",
       "      <td>3.847528</td>\n",
       "      <td>0.500025</td>\n",
       "      <td>0.500025</td>\n",
       "      <td>32.108439</td>\n",
       "    </tr>\n",
       "    <tr>\n",
       "      <th>min</th>\n",
       "      <td>54.263133</td>\n",
       "      <td>0.000000</td>\n",
       "      <td>0.000000</td>\n",
       "      <td>64.700127</td>\n",
       "    </tr>\n",
       "    <tr>\n",
       "      <th>25%</th>\n",
       "      <td>63.505620</td>\n",
       "      <td>0.000000</td>\n",
       "      <td>0.000000</td>\n",
       "      <td>135.818051</td>\n",
       "    </tr>\n",
       "    <tr>\n",
       "      <th>50%</th>\n",
       "      <td>66.318070</td>\n",
       "      <td>0.500000</td>\n",
       "      <td>0.500000</td>\n",
       "      <td>161.212928</td>\n",
       "    </tr>\n",
       "    <tr>\n",
       "      <th>75%</th>\n",
       "      <td>69.174262</td>\n",
       "      <td>1.000000</td>\n",
       "      <td>1.000000</td>\n",
       "      <td>187.169525</td>\n",
       "    </tr>\n",
       "    <tr>\n",
       "      <th>max</th>\n",
       "      <td>78.998742</td>\n",
       "      <td>1.000000</td>\n",
       "      <td>1.000000</td>\n",
       "      <td>269.989699</td>\n",
       "    </tr>\n",
       "  </tbody>\n",
       "</table>\n",
       "</div>"
      ],
      "text/plain": [
       "             Height        Female          Male        Weight\n",
       "count  10000.000000  10000.000000  10000.000000  10000.000000\n",
       "mean      66.367560      0.500000      0.500000    161.440357\n",
       "std        3.847528      0.500025      0.500025     32.108439\n",
       "min       54.263133      0.000000      0.000000     64.700127\n",
       "25%       63.505620      0.000000      0.000000    135.818051\n",
       "50%       66.318070      0.500000      0.500000    161.212928\n",
       "75%       69.174262      1.000000      1.000000    187.169525\n",
       "max       78.998742      1.000000      1.000000    269.989699"
      ]
     },
     "execution_count": 10,
     "metadata": {},
     "output_type": "execute_result"
    }
   ],
   "source": [
    "df.describe()"
   ]
  },
  {
   "cell_type": "code",
   "execution_count": 11,
   "metadata": {},
   "outputs": [
    {
     "name": "stdout",
     "output_type": "stream",
     "text": [
      "<class 'pandas.core.frame.DataFrame'>\n",
      "RangeIndex: 10000 entries, 0 to 9999\n",
      "Data columns (total 4 columns):\n",
      " #   Column  Non-Null Count  Dtype  \n",
      "---  ------  --------------  -----  \n",
      " 0   Height  10000 non-null  float64\n",
      " 1   Female  10000 non-null  uint8  \n",
      " 2   Male    10000 non-null  uint8  \n",
      " 3   Weight  10000 non-null  float64\n",
      "dtypes: float64(2), uint8(2)\n",
      "memory usage: 175.9 KB\n"
     ]
    }
   ],
   "source": [
    "df.info()"
   ]
  },
  {
   "cell_type": "code",
   "execution_count": 12,
   "metadata": {},
   "outputs": [
    {
     "data": {
      "text/plain": [
       "<matplotlib.axes._subplots.AxesSubplot at 0x1ef7e192248>"
      ]
     },
     "execution_count": 12,
     "metadata": {},
     "output_type": "execute_result"
    },
    {
     "data": {
      "image/png": "[encoded data removed]",
      "text/plain": [
       "<Figure size 432x288 with 1 Axes>"
      ]
     },
     "metadata": {
      "needs_background": "light"
     },
     "output_type": "display_data"
    }
   ],
   "source": [
    "sns.scatterplot(x='Height',y='Weight',hue='Female',data=df)"
   ]
  },
  {
   "cell_type": "code",
   "execution_count": 13,
   "metadata": {},
   "outputs": [],
   "source": [
    "X = df.drop('Weight',axis=1).values\n",
    "y = df['Weight'].values"
   ]
  },
  {
   "cell_type": "code",
   "execution_count": 14,
   "metadata": {},
   "outputs": [],
   "source": [
    "from sklearn.model_selection import train_test_split"
   ]
  },
  {
   "cell_type": "code",
   "execution_count": 15,
   "metadata": {},
   "outputs": [],
   "source": [
    "X_train, X_test, y_train, y_test = train_test_split(X, y, test_size=0.33, random_state=42)"
   ]
  },
  {
   "cell_type": "code",
   "execution_count": 16,
   "metadata": {},
   "outputs": [],
   "source": [
    "from tensorflow.keras.models import Sequential\n",
    "from tensorflow.keras.layers import Dense"
   ]
  },
  {
   "cell_type": "code",
   "execution_count": 17,
   "metadata": {},
   "outputs": [
    {
     "data": {
      "text/plain": [
       "array([[65.28925911,  1.        ,  0.        ],\n",
       "       [62.73928093,  1.        ,  0.        ],\n",
       "       [63.46342933,  1.        ,  0.        ],\n",
       "       ...,\n",
       "       [64.3254058 ,  1.        ,  0.        ],\n",
       "       [69.07449203,  0.        ,  1.        ],\n",
       "       [67.58883983,  1.        ,  0.        ]])"
      ]
     },
     "execution_count": 17,
     "metadata": {},
     "output_type": "execute_result"
    }
   ],
   "source": [
    "X_train.shape\n",
    "X_train"
   ]
  },
  {
   "cell_type": "code",
   "execution_count": 18,
   "metadata": {},
   "outputs": [],
   "source": [
    "from sklearn.preprocessing import MinMaxScaler"
   ]
  },
  {
   "cell_type": "code",
   "execution_count": 19,
   "metadata": {},
   "outputs": [],
   "source": [
    "scaler = MinMaxScaler()\n",
    "X_train = scaler.fit_transform(X_train)\n",
    "X_test = scaler.transform(X_test)"
   ]
  },
  {
   "cell_type": "code",
   "execution_count": 20,
   "metadata": {},
   "outputs": [
    {
     "name": "stdout",
     "output_type": "stream",
     "text": [
      "Train\n",
      "[[0.44575922 1.         0.        ]\n",
      " [0.34266986 1.         0.        ]\n",
      " [0.3719454  1.         0.        ]\n",
      " ...\n",
      " [0.40679299 1.         0.        ]\n",
      " [0.5987869  0.         1.        ]\n",
      " [0.53872563 1.         0.        ]]\n",
      "Test\n",
      "[[0.58313094 1.         0.        ]\n",
      " [0.58887576 0.         1.        ]\n",
      " [0.49058808 0.         1.        ]\n",
      " ...\n",
      " [0.39191174 1.         0.        ]\n",
      " [0.28974339 1.         0.        ]\n",
      " [0.33100505 1.         0.        ]]\n"
     ]
    }
   ],
   "source": [
    "print(\"Train\")\n",
    "print(X_train)\n",
    "print(\"Test\")\n",
    "print(X_test)"
   ]
  },
  {
   "cell_type": "code",
   "execution_count": 21,
   "metadata": {},
   "outputs": [],
   "source": [
    "new_model = Sequential()\n",
    "new_model.add(Dense(3,activation='relu'))\n",
    "new_model.add(Dense(3,activation='relu'))\n",
    "new_model.add(Dense(3,activation='relu'))\n",
    "new_model.add(Dense(3,activation='relu'))\n",
    "new_model.add(Dense(1)) "
   ]
  },
  {
   "cell_type": "code",
   "execution_count": 22,
   "metadata": {},
   "outputs": [],
   "source": [
    "new_model.compile(optimizer='adam',loss='mse')"
   ]
  },
  {
   "cell_type": "code",
   "execution_count": 23,
   "metadata": {},
   "outputs": [],
   "source": [
    "from tensorflow.keras.callbacks import EarlyStopping"
   ]
  },
  {
   "cell_type": "code",
   "execution_count": 24,
   "metadata": {},
   "outputs": [],
   "source": [
    "stop = EarlyStopping(monitor='val_loss',patience=2) #Adding earlystopping in order to prevent our model from overfitting"
   ]
  },
  {
   "cell_type": "code",
   "execution_count": 25,
   "metadata": {},
   "outputs": [
    {
     "name": "stdout",
     "output_type": "stream",
     "text": [
      "Train on 6700 samples, validate on 3300 samples\n",
      "Epoch 1/100\n",
      "6700/6700 [==============================] - 2s 252us/sample - loss: 26830.7587 - val_loss: 26720.7633\n",
      "Epoch 2/100\n",
      "6700/6700 [==============================] - 1s 93us/sample - loss: 24244.2026 - val_loss: 20207.1479\n",
      "Epoch 3/100\n",
      "6700/6700 [==============================] - 1s 97us/sample - loss: 11416.5336 - val_loss: 2807.4693\n",
      "Epoch 4/100\n",
      "6700/6700 [==============================] - 1s 95us/sample - loss: 665.7513 - val_loss: 207.8809\n",
      "Epoch 5/100\n",
      "6700/6700 [==============================] - 1s 93us/sample - loss: 203.9425 - val_loss: 201.6266\n",
      "Epoch 6/100\n",
      "6700/6700 [==============================] - 1s 95us/sample - loss: 199.8789 - val_loss: 198.5481\n",
      "Epoch 7/100\n",
      "6700/6700 [==============================] - 1s 110us/sample - loss: 197.0387 - val_loss: 196.4286\n",
      "Epoch 8/100\n",
      "6700/6700 [==============================] - 1s 95us/sample - loss: 194.4074 - val_loss: 193.8727\n",
      "Epoch 9/100\n",
      "6700/6700 [==============================] - 1s 116us/sample - loss: 191.7494 - val_loss: 190.5836\n",
      "Epoch 10/100\n",
      "6700/6700 [==============================] - 1s 114us/sample - loss: 188.7102 - val_loss: 187.8614\n",
      "Epoch 11/100\n",
      "6700/6700 [==============================] - 1s 100us/sample - loss: 185.5059 - val_loss: 184.1766\n",
      "Epoch 12/100\n",
      "6700/6700 [==============================] - 1s 128us/sample - loss: 181.8980 - val_loss: 180.9962\n",
      "Epoch 13/100\n",
      "6700/6700 [==============================] - 1s 94us/sample - loss: 178.0578 - val_loss: 177.5713\n",
      "Epoch 14/100\n",
      "6700/6700 [==============================] - 1s 95us/sample - loss: 174.5790 - val_loss: 173.0320\n",
      "Epoch 15/100\n",
      "6700/6700 [==============================] - 1s 94us/sample - loss: 170.3480 - val_loss: 168.9058\n",
      "Epoch 16/100\n",
      "6700/6700 [==============================] - 1s 110us/sample - loss: 166.0405 - val_loss: 164.6706\n",
      "Epoch 17/100\n",
      "6700/6700 [==============================] - 1s 117us/sample - loss: 161.7932 - val_loss: 160.4965\n",
      "Epoch 18/100\n",
      "6700/6700 [==============================] - 1s 95us/sample - loss: 157.3120 - val_loss: 155.9862\n",
      "Epoch 19/100\n",
      "6700/6700 [==============================] - 1s 115us/sample - loss: 152.9552 - val_loss: 152.7217\n",
      "Epoch 20/100\n",
      "6700/6700 [==============================] - 1s 112us/sample - loss: 148.3848 - val_loss: 147.3788\n",
      "Epoch 21/100\n",
      "6700/6700 [==============================] - 1s 109us/sample - loss: 143.6305 - val_loss: 143.9480\n",
      "Epoch 22/100\n",
      "6700/6700 [==============================] - 1s 98us/sample - loss: 139.6702 - val_loss: 139.6653\n",
      "Epoch 23/100\n",
      "6700/6700 [==============================] - 1s 96us/sample - loss: 135.3025 - val_loss: 134.7630\n",
      "Epoch 24/100\n",
      "6700/6700 [==============================] - 1s 95us/sample - loss: 131.2584 - val_loss: 130.4532\n",
      "Epoch 25/100\n",
      "6700/6700 [==============================] - 1s 94us/sample - loss: 127.0364 - val_loss: 126.6420\n",
      "Epoch 26/100\n",
      "6700/6700 [==============================] - 1s 93us/sample - loss: 123.5455 - val_loss: 123.1796\n",
      "Epoch 27/100\n",
      "6700/6700 [==============================] - 1s 96us/sample - loss: 120.2804 - val_loss: 119.9998\n",
      "Epoch 28/100\n",
      "6700/6700 [==============================] - 1s 94us/sample - loss: 117.3116 - val_loss: 117.6961\n",
      "Epoch 29/100\n",
      "6700/6700 [==============================] - 1s 96us/sample - loss: 114.3402 - val_loss: 114.9335\n",
      "Epoch 30/100\n",
      "6700/6700 [==============================] - 1s 94us/sample - loss: 111.9804 - val_loss: 112.6224\n",
      "Epoch 31/100\n",
      "6700/6700 [==============================] - 1s 95us/sample - loss: 109.6484 - val_loss: 110.2793\n",
      "Epoch 32/100\n",
      "6700/6700 [==============================] - 1s 95us/sample - loss: 108.0574 - val_loss: 109.1284\n",
      "Epoch 33/100\n",
      "6700/6700 [==============================] - 1s 98us/sample - loss: 106.5177 - val_loss: 106.8235\n",
      "Epoch 34/100\n",
      "6700/6700 [==============================] - 1s 95us/sample - loss: 105.2073 - val_loss: 105.7881\n",
      "Epoch 35/100\n",
      "6700/6700 [==============================] - 1s 95us/sample - loss: 104.1290 - val_loss: 105.3686\n",
      "Epoch 36/100\n",
      "6700/6700 [==============================] - 1s 94us/sample - loss: 103.3938 - val_loss: 104.4258\n",
      "Epoch 37/100\n",
      "6700/6700 [==============================] - 1s 97us/sample - loss: 102.7332 - val_loss: 104.2829\n",
      "Epoch 38/100\n",
      "6700/6700 [==============================] - 1s 101us/sample - loss: 102.1357 - val_loss: 102.7456\n",
      "Epoch 39/100\n",
      "6700/6700 [==============================] - 1s 95us/sample - loss: 101.7620 - val_loss: 102.4447\n",
      "Epoch 40/100\n",
      "6700/6700 [==============================] - 1s 94us/sample - loss: 101.3036 - val_loss: 102.0349\n",
      "Epoch 41/100\n",
      "6700/6700 [==============================] - 1s 100us/sample - loss: 101.0022 - val_loss: 101.9530\n",
      "Epoch 42/100\n",
      "6700/6700 [==============================] - 1s 96us/sample - loss: 101.4287 - val_loss: 101.8665\n",
      "Epoch 43/100\n",
      "6700/6700 [==============================] - 1s 96us/sample - loss: 101.0782 - val_loss: 101.6838\n",
      "Epoch 44/100\n",
      "6700/6700 [==============================] - 1s 96us/sample - loss: 100.5690 - val_loss: 101.3565\n",
      "Epoch 45/100\n",
      "6700/6700 [==============================] - 1s 96us/sample - loss: 100.5899 - val_loss: 101.4466\n",
      "Epoch 46/100\n",
      "6700/6700 [==============================] - 1s 95us/sample - loss: 100.5072 - val_loss: 102.1498\n"
     ]
    },
    {
     "data": {
      "text/plain": [
       "<tensorflow.python.keras.callbacks.History at 0x1ef7391fe08>"
      ]
     },
     "execution_count": 25,
     "metadata": {},
     "output_type": "execute_result"
    }
   ],
   "source": [
    "new_model.fit(X_train,y_train,epochs=100,\n",
    "         callbacks = [stop], validation_data = (X_test,y_test))"
   ]
  },
  {
   "cell_type": "code",
   "execution_count": 26,
   "metadata": {},
   "outputs": [],
   "source": [
    "losses = pd.DataFrame(new_model.history.history)"
   ]
  },
  {
   "cell_type": "code",
   "execution_count": 27,
   "metadata": {},
   "outputs": [
    {
     "data": {
      "text/plain": [
       "<matplotlib.axes._subplots.AxesSubplot at 0x1ef74632748>"
      ]
     },
     "execution_count": 27,
     "metadata": {},
     "output_type": "execute_result"
    },
    {
     "data": {
      "image/png": "[encoded data removed]",
      "text/plain": [
       "<Figure size 432x288 with 1 Axes>"
      ]
     },
     "metadata": {
      "needs_background": "light"
     },
     "output_type": "display_data"
    }
   ],
   "source": [
    "losses.plot()"
   ]
  },
  {
   "cell_type": "code",
   "execution_count": 28,
   "metadata": {},
   "outputs": [],
   "source": [
    "predictions = new_model.predict(X_test)"
   ]
  },
  {
   "cell_type": "code",
   "execution_count": 29,
   "metadata": {},
   "outputs": [],
   "source": [
    "from sklearn.metrics import mean_absolute_error"
   ]
  },
  {
   "cell_type": "code",
   "execution_count": 30,
   "metadata": {},
   "outputs": [
    {
     "data": {
      "text/plain": [
       "8.020464174173306"
      ]
     },
     "execution_count": 30,
     "metadata": {},
     "output_type": "execute_result"
    }
   ],
   "source": [
    "mean_absolute_error(y_test,predictions)     #Calculating our mean absolute error"
   ]
  },
  {
   "cell_type": "code",
   "execution_count": 31,
   "metadata": {},
   "outputs": [],
   "source": [
    "pred_df = pd.DataFrame(predictions,columns=['Predictions'])"
   ]
  },
  {
   "cell_type": "code",
   "execution_count": 32,
   "metadata": {},
   "outputs": [],
   "source": [
    "actual_df = pd.DataFrame(y_test,columns=['Actual'])"
   ]
  },
  {
   "cell_type": "code",
   "execution_count": 33,
   "metadata": {},
   "outputs": [],
   "source": [
    "compare_df = pd.concat([actual_df,pred_df],axis=1)"
   ]
  },
  {
   "cell_type": "code",
   "execution_count": 34,
   "metadata": {},
   "outputs": [
    {
     "data": {
      "text/html": [
       "<div>\n",
       "<style scoped>\n",
       "    .dataframe tbody tr th:only-of-type {\n",
       "        vertical-align: middle;\n",
       "    }\n",
       "\n",
       "    .dataframe tbody tr th {\n",
       "        vertical-align: top;\n",
       "    }\n",
       "\n",
       "    .dataframe thead th {\n",
       "        text-align: right;\n",
       "    }\n",
       "</style>\n",
       "<table border=\"1\" class=\"dataframe\">\n",
       "  <thead>\n",
       "    <tr style=\"text-align: right;\">\n",
       "      <th></th>\n",
       "      <th>Actual</th>\n",
       "      <th>Predictions</th>\n",
       "    </tr>\n",
       "  </thead>\n",
       "  <tbody>\n",
       "    <tr>\n",
       "      <th>0</th>\n",
       "      <td>173.115813</td>\n",
       "      <td>165.685638</td>\n",
       "    </tr>\n",
       "    <tr>\n",
       "      <th>1</th>\n",
       "      <td>195.162042</td>\n",
       "      <td>187.227310</td>\n",
       "    </tr>\n",
       "    <tr>\n",
       "      <th>2</th>\n",
       "      <td>170.217451</td>\n",
       "      <td>173.012955</td>\n",
       "    </tr>\n",
       "    <tr>\n",
       "      <th>3</th>\n",
       "      <td>215.049660</td>\n",
       "      <td>205.351898</td>\n",
       "    </tr>\n",
       "    <tr>\n",
       "      <th>4</th>\n",
       "      <td>182.721452</td>\n",
       "      <td>176.782684</td>\n",
       "    </tr>\n",
       "    <tr>\n",
       "      <th>...</th>\n",
       "      <td>...</td>\n",
       "      <td>...</td>\n",
       "    </tr>\n",
       "    <tr>\n",
       "      <th>3295</th>\n",
       "      <td>190.584200</td>\n",
       "      <td>183.613800</td>\n",
       "    </tr>\n",
       "    <tr>\n",
       "      <th>3296</th>\n",
       "      <td>132.275936</td>\n",
       "      <td>141.142349</td>\n",
       "    </tr>\n",
       "    <tr>\n",
       "      <th>3297</th>\n",
       "      <td>127.444970</td>\n",
       "      <td>137.959457</td>\n",
       "    </tr>\n",
       "    <tr>\n",
       "      <th>3298</th>\n",
       "      <td>131.181930</td>\n",
       "      <td>123.145355</td>\n",
       "    </tr>\n",
       "    <tr>\n",
       "      <th>3299</th>\n",
       "      <td>138.801656</td>\n",
       "      <td>129.128174</td>\n",
       "    </tr>\n",
       "  </tbody>\n",
       "</table>\n",
       "<p>3300 rows × 2 columns</p>\n",
       "</div>"
      ],
      "text/plain": [
       "          Actual  Predictions\n",
       "0     173.115813   165.685638\n",
       "1     195.162042   187.227310\n",
       "2     170.217451   173.012955\n",
       "3     215.049660   205.351898\n",
       "4     182.721452   176.782684\n",
       "...          ...          ...\n",
       "3295  190.584200   183.613800\n",
       "3296  132.275936   141.142349\n",
       "3297  127.444970   137.959457\n",
       "3298  131.181930   123.145355\n",
       "3299  138.801656   129.128174\n",
       "\n",
       "[3300 rows x 2 columns]"
      ]
     },
     "execution_count": 34,
     "metadata": {},
     "output_type": "execute_result"
    }
   ],
   "source": [
    "compare_df"
   ]
  },
  {
   "cell_type": "code",
   "execution_count": 35,
   "metadata": {},
   "outputs": [
    {
     "data": {
      "text/plain": [
       "<seaborn.axisgrid.FacetGrid at 0x1f0672e7588>"
      ]
     },
     "execution_count": 35,
     "metadata": {},
     "output_type": "execute_result"
    },
    {
     "data": {
      "image/png": "[encoded data removed]",
      "text/plain": [
       "<Figure size 360x360 with 1 Axes>"
      ]
     },
     "metadata": {
      "needs_background": "light"
     },
     "output_type": "display_data"
    }
   ],
   "source": [
    "sns.lmplot(x='Actual',y='Predictions',data=compare_df)"
   ]
  },
  {
   "cell_type": "markdown",
   "metadata": {},
   "source": [
    "## Try Entering your own height(in inches) and gender(0.0 in female and 1.0 in male if you're male and vice-versa) in the cell below and see what the model predicts."
   ]
  },
  {
   "cell_type": "code",
   "execution_count": 36,
   "metadata": {},
   "outputs": [],
   "source": [
    "my_height = 74.0  \n",
    "female = 0.\n",
    "male = 1."
   ]
  },
  {
   "cell_type": "code",
   "execution_count": 37,
   "metadata": {},
   "outputs": [],
   "source": [
    "unknown_data = np.array([my_height,female,male]).reshape(1,3)"
   ]
  },
  {
   "cell_type": "code",
   "execution_count": 38,
   "metadata": {},
   "outputs": [],
   "source": [
    "unknown_data = scaler.transform(unknown_data)"
   ]
  },
  {
   "cell_type": "code",
   "execution_count": 39,
   "metadata": {},
   "outputs": [],
   "source": [
    "new_pred = new_model.predict(unknown_data)"
   ]
  },
  {
   "cell_type": "code",
   "execution_count": 40,
   "metadata": {},
   "outputs": [
    {
     "data": {
      "text/plain": [
       "array([[217.45831]], dtype=float32)"
      ]
     },
     "execution_count": 40,
     "metadata": {},
     "output_type": "execute_result"
    }
   ],
   "source": [
    "new_pred"
   ]
  }
 ],
 "metadata": {
  "kernelspec": {
   "display_name": "Python 3.7 (tensorflow)",
   "language": "python",
   "name": "tensorflow"
  },
  "language_info": {
   "codemirror_mode": {
    "name": "ipython",
    "version": 3
   },
   "file_extension": ".py",
   "mimetype": "text/x-python",
   "name": "python",
   "nbconvert_exporter": "python",
   "pygments_lexer": "ipython3",
   "version": "3.7.6"
  }
 },
 "nbformat": 4,
 "nbformat_minor": 4
}
